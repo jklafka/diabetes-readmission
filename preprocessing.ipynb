{
 "cells": [
  {
   "cell_type": "code",
   "execution_count": 23,
   "id": "internal-missile",
   "metadata": {},
   "outputs": [],
   "source": [
    "# Import statements\n",
    "import pandas as pd\n",
    "import numpy as np\n",
    "import sklearn.model_selection\n",
    "import sklearn.compose # column transformers\n",
    "import sklearn.preprocessing\n",
    "from sklearn.pipeline import Pipeline\n",
    "from sklearn.impute import SimpleImputer\n",
    "from sklearn.model_selection import train_test_split\n",
    "from sklearn.preprocessing import MinMaxScaler"
   ]
  },
  {
   "cell_type": "code",
   "execution_count": 24,
   "id": "favorite-balloon",
   "metadata": {},
   "outputs": [],
   "source": [
    "# read in data\n",
    "data = pd.read_csv(\"dataset_diabetes/diabetic_data.csv\").drop_duplicates([\"patient_nbr\"])"
   ]
  },
  {
   "cell_type": "code",
   "execution_count": 25,
   "id": "regulated-difference",
   "metadata": {},
   "outputs": [],
   "source": [
    "X, y = data.drop(\"readmitted\", axis=1), data[\"readmitted\"]"
   ]
  },
  {
   "cell_type": "code",
   "execution_count": 26,
   "id": "frank-account",
   "metadata": {},
   "outputs": [],
   "source": [
    "Xtrain, Xtest, ytrain, ytest = train_test_split(X, y, \\\n",
    "                                                    test_size = 0.20, train_size = 0.80, shuffle = True)"
   ]
  },
  {
   "cell_type": "markdown",
   "id": "scenic-circuit",
   "metadata": {},
   "source": [
    "Weight is missing from 97% of the observations in the dataset, while payer and admitting physician specialty are missing from 52% and 53% respectively. We cut each of these three variables."
   ]
  },
  {
   "cell_type": "code",
   "execution_count": 27,
   "id": "binding-citizenship",
   "metadata": {},
   "outputs": [],
   "source": [
    "Xtrain = (Xtrain[Xtrain.columns[~Xtrain.columns.str.contains(\"_id\")]] #drop all id columns\n",
    "            .drop(\"patient_nbr\", axis=1) # drop other id column\n",
    "            .drop([\"weight\", \"payer_code\", \"medical_specialty\"], axis=1) # drop incomplete columns\n",
    "            .replace({\"gender\": {\"Female\": 1, \"Male\": 0, \"Unknown/Invalid\": 2}, \n",
    "                      \"race\": {\"AfricanAmerican\": 0, \"Hispanic\": 1, \"Asian\": 2, \"Caucasian\": 3, \"Other\": 4},\n",
    "                      \"age\": {\"[0-10)\": 0, \"[10-20)\": 1, \"[20-30)\": 2, \"[30-40)\": 3, \n",
    "                              \"[40-50)\": 4, \"[50-60)\": 5, \"[60-70)\": 6, \"[70-80)\": 7, \n",
    "                              \"[80-90)\": 8, \"[90-100)\": 9},\n",
    "                      \"max_glu_serum\": {\"None\": 0, \"Norm\": 1, \">200\": 2, \">300\": 3},\n",
    "                      \"A1Cresult\": {\"None\": 0, \"Norm\": 1, \">7\": 2, \">8\": 3}\n",
    "                      }) #recode categorical as factors\n",
    "            .replace({'?': None, \"No\": 0, \"Yes\": 1, \"Ch\": 1}) # null entries are recorded as '?' in the data\n",
    "            .replace({\"Steady\": 1, \"Down\": 2, \"Up\": 3})\n",
    "            #.dropna(axis=0) # drop null rows for now\n",
    ")\n",
    "ytrain = (ytrain\n",
    "          .replace({\"NO\": 0, \">30\": 1, \"<30\": 1})\n",
    ")"
   ]
  },
  {
   "cell_type": "code",
   "execution_count": 28,
   "id": "caroline-conversation",
   "metadata": {},
   "outputs": [],
   "source": [
    "# let's try to train a simple model just based off the numeric features\n",
    "dfx = (Xtrain#[[\"num_lab_procedures\", \"num_medications\", \"time_in_hospital\", \"num_procedures\"]]\n",
    "      .drop([\"diag_1\", \"diag_2\", \"diag_3\"], axis=1)\n",
    "      .apply(pd.to_numeric, axis=1)\n",
    ")\n",
    "dfy = pd.to_numeric(ytrain)\n",
    "dfx_train, dfx_test, dfy_train, dfy_test = train_test_split(dfx, dfy, test_size = 0.20, train_size = 0.80, shuffle = True)"
   ]
  },
  {
   "cell_type": "code",
   "execution_count": 16,
   "id": "impossible-baseball",
   "metadata": {},
   "outputs": [
    {
     "name": "stdout",
     "output_type": "stream",
     "text": [
      "We have 44537 rows left after dropping rows with NA in them.\n"
     ]
    }
   ],
   "source": [
    "df = pd.concat([dfx_train, dfy_train], axis=1)\n",
    "df = (df\n",
    "      .replace([np.inf, -np.inf, np.NaN], np.nan) \n",
    "      .dropna(axis=0) #drop any rows we can't train on for now\n",
    "      \n",
    ")\n",
    "print(\"We have %d rows left after dropping rows with NA in them.\" % df.shape[0])\n",
    "dfx_train, dfy_train = df.drop(\"readmitted\", axis=1), df[\"readmitted\"]"
   ]
  },
  {
   "cell_type": "code",
   "execution_count": null,
   "id": "possible-validity",
   "metadata": {},
   "outputs": [],
   "source": [
    "df = pd.concat([dfx_train, dfy_train], axis=1)\n",
    "scaler = MinMaxScaler().fit(df)\n",
    "df_scaled = scaler.transform(df)"
   ]
  },
  {
   "cell_type": "code",
   "execution_count": 30,
   "id": "fluid-baseline",
   "metadata": {},
   "outputs": [],
   "source": [
    "df_scaled.to_csv(\"scaled_data.csv\", index=False)"
   ]
  },
  {
   "cell_type": "code",
   "execution_count": null,
   "id": "amazing-porter",
   "metadata": {},
   "outputs": [],
   "source": [
    "def binary_converter():\n",
    "    \n",
    "binary_transformer = sklearn.preprocessing.FunctionTransformer(binary_converter)"
   ]
  },
  {
   "cell_type": "code",
   "execution_count": null,
   "id": "failing-reunion",
   "metadata": {},
   "outputs": [],
   "source": [
    "## full preprocessing pipeline from the training data\n",
    "pipeline = Pipeline()"
   ]
  },
  {
   "cell_type": "code",
   "execution_count": null,
   "id": "persistent-transparency",
   "metadata": {},
   "outputs": [],
   "source": [
    "## test it out on the cv data"
   ]
  },
  {
   "cell_type": "code",
   "execution_count": null,
   "id": "swiss-johnson",
   "metadata": {},
   "outputs": [],
   "source": [
    "## and export it to a file for use on the test data"
   ]
  }
 ],
 "metadata": {
  "kernelspec": {
   "display_name": "Python 3",
   "language": "python",
   "name": "python3"
  },
  "language_info": {
   "codemirror_mode": {
    "name": "ipython",
    "version": 3
   },
   "file_extension": ".py",
   "mimetype": "text/x-python",
   "name": "python",
   "nbconvert_exporter": "python",
   "pygments_lexer": "ipython3",
   "version": "3.8.2"
  }
 },
 "nbformat": 4,
 "nbformat_minor": 5
}
