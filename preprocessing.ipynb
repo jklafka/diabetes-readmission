{
 "cells": [
  {
   "cell_type": "code",
   "execution_count": 26,
   "id": "internal-missile",
   "metadata": {},
   "outputs": [],
   "source": [
    "# Import statements\n",
    "import pandas as pd\n",
    "import sklearn.model_selection\n",
    "import sklearn.compose # column transformers\n",
    "import sklearn.preprocessing\n",
    "from sklearn.pipeline import Pipeline\n",
    "from sklearn.impute import SimpleImputer\n",
    "from sklearn.model_selection import train_test_split"
   ]
  },
  {
   "cell_type": "code",
   "execution_count": 27,
   "id": "favorite-balloon",
   "metadata": {},
   "outputs": [],
   "source": [
    "# read in data\n",
    "data = pd.read_csv(\"dataset_diabetes/diabetic_data.csv\").drop_duplicates([\"patient_nbr\"])"
   ]
  },
  {
   "cell_type": "code",
   "execution_count": 28,
   "id": "regulated-difference",
   "metadata": {},
   "outputs": [],
   "source": [
    "X, y = data.drop(\"readmitted\", axis=1), data[\"readmitted\"]"
   ]
  },
  {
   "cell_type": "code",
   "execution_count": 37,
   "id": "frank-account",
   "metadata": {},
   "outputs": [],
   "source": [
    "Xtrain, Xtest, ytrain, ytest = train_test_split(X, y, \\\n",
    "                                                    test_size = 0.20, train_size = 0.80, shuffle = True)"
   ]
  },
  {
   "cell_type": "markdown",
   "id": "scenic-circuit",
   "metadata": {},
   "source": [
    "Weight is missing from 97% of the observations in the dataset, while payer and admitting physician specialty are missing from 52% and 53% respectively. We cut each of these three variables."
   ]
  },
  {
   "cell_type": "code",
   "execution_count": 38,
   "id": "binding-citizenship",
   "metadata": {},
   "outputs": [],
   "source": [
    "Xtrain = (Xtrain[Xtrain.columns[~Xtrain.columns.str.contains(\"_id\")]] \n",
    "            .drop([\"patient_nbr\", \"weight\", \"payer_code\", \"medical_specialty\"], axis=1) #drop all id columns\n",
    "            .replace({\"gender\": {\"Female\": 1, \"Male\": 0}, \n",
    "                      }) #recode binary variables\n",
    "            .replace({'?': None, \"No\": 0, \"Yes\": 1, \"Ch\": 1}) # null entries are recorded as '?' in the data\n",
    "            #.dropna(axis=0) # drop null rows for now\n",
    ")"
   ]
  },
  {
   "cell_type": "code",
   "execution_count": 39,
   "id": "downtown-replacement",
   "metadata": {},
   "outputs": [],
   "source": [
    "ytrain = (ytrain\n",
    "          .replace({\"NO\": 0, \">30\": 1, \"<30\": 1})\n",
    ")"
   ]
  },
  {
   "cell_type": "code",
   "execution_count": 40,
   "id": "caroline-conversation",
   "metadata": {},
   "outputs": [],
   "source": [
    "# let's try to train a simple model just based off the numeric features\n",
    "dfx = (Xtrain[[\"num_lab_procedures\", \"num_medications\", \"time_in_hospital\", \"num_procedures\"]]\n",
    "      .apply(pd.to_numeric, axis=1)\n",
    ")\n",
    "dfy = pd.to_numeric(ytrain)\n",
    "dfx_train, dfx_test, dfy_train, dfy_test = train_test_split(dfx, dfy, test_size = 0.20, train_size = 0.80, shuffle = True)"
   ]
  },
  {
   "cell_type": "code",
   "execution_count": 41,
   "id": "decreased-greek",
   "metadata": {},
   "outputs": [
    {
     "data": {
      "text/plain": [
       "0.007430677022721932"
      ]
     },
     "execution_count": 41,
     "metadata": {},
     "output_type": "execute_result"
    }
   ],
   "source": [
    "from sklearn.linear_model import LinearRegression\n",
    "lr = LinearRegression().fit(dfx_train, dfy_train)\n",
    "lr.score(dfx_test, dfy_test)"
   ]
  },
  {
   "cell_type": "code",
   "execution_count": null,
   "id": "amazing-porter",
   "metadata": {},
   "outputs": [],
   "source": [
    "def binary_converter():\n",
    "    \n",
    "binary_transformer = sklearn.preprocessing.FunctionTransformer(binary_converter)"
   ]
  },
  {
   "cell_type": "code",
   "execution_count": null,
   "id": "failing-reunion",
   "metadata": {},
   "outputs": [],
   "source": [
    "## full preprocessing pipeline from the training data\n",
    "pipeline = Pipeline()"
   ]
  },
  {
   "cell_type": "code",
   "execution_count": null,
   "id": "persistent-transparency",
   "metadata": {},
   "outputs": [],
   "source": [
    "## test it out on the cv data"
   ]
  },
  {
   "cell_type": "code",
   "execution_count": null,
   "id": "swiss-johnson",
   "metadata": {},
   "outputs": [],
   "source": [
    "## and export it to a file for use on the test data"
   ]
  }
 ],
 "metadata": {
  "kernelspec": {
   "display_name": "Python 3",
   "language": "python",
   "name": "python3"
  },
  "language_info": {
   "codemirror_mode": {
    "name": "ipython",
    "version": 3
   },
   "file_extension": ".py",
   "mimetype": "text/x-python",
   "name": "python",
   "nbconvert_exporter": "python",
   "pygments_lexer": "ipython3",
   "version": "3.8.2"
  }
 },
 "nbformat": 4,
 "nbformat_minor": 5
}
