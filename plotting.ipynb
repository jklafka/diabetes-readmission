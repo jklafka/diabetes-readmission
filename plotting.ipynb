{
 "cells": [
  {
   "cell_type": "code",
   "execution_count": 1,
   "id": "featured-property",
   "metadata": {},
   "outputs": [],
   "source": [
    "import seaborn as sns\n",
    "import matplotlib.pyplot as plt"
   ]
  },
  {
   "cell_type": "code",
   "execution_count": null,
   "id": "biblical-animal",
   "metadata": {},
   "outputs": [],
   "source": [
    "## how do we treat/use each variable?"
   ]
  },
  {
   "cell_type": "code",
   "execution_count": null,
   "id": "infinite-vatican",
   "metadata": {},
   "outputs": [],
   "source": [
    "# correlation plot for input features\n",
    "sns.pairplot(data.drop(\"readmitted\", axis=1).iloc[:,3:7].head())\n",
    "plt.show()"
   ]
  },
  {
   "cell_type": "code",
   "execution_count": null,
   "id": "funky-vegetarian",
   "metadata": {},
   "outputs": [],
   "source": [
    "# heatmap for input features\n",
    "sns.heatmap(train.drop(\"readmitted\", axis=1).head())\n",
    "plt.show()"
   ]
  },
  {
   "cell_type": "code",
   "execution_count": null,
   "id": "stainless-pollution",
   "metadata": {},
   "outputs": [],
   "source": [
    "from sklearn.metrics import confusion_matrix\n",
    "mat = confusion_matrix(y, y_pred)\n",
    "# heatmap showing what percentage of data is in each cell\n",
    "sns.heatmap(mat / mat.sum(), annot=True, fmt='.2%')"
   ]
  }
 ],
 "metadata": {
  "kernelspec": {
   "display_name": "Python 3",
   "language": "python",
   "name": "python3"
  },
  "language_info": {
   "codemirror_mode": {
    "name": "ipython",
    "version": 3
   },
   "file_extension": ".py",
   "mimetype": "text/x-python",
   "name": "python",
   "nbconvert_exporter": "python",
   "pygments_lexer": "ipython3",
   "version": "3.8.2"
  }
 },
 "nbformat": 4,
 "nbformat_minor": 5
}
